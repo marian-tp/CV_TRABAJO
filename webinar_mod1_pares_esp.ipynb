{
 "cells": [
  {
   "cell_type": "markdown",
   "metadata": {
    "id": "Yq3iKyd_5ztF",
    "tags": []
   },
   "source": [
    "# Automatización de Informes de Webinar"
   ]
  },
  {
   "cell_type": "markdown",
   "metadata": {},
   "source": [
    "## GENERAL"
   ]
  },
  {
   "cell_type": "markdown",
   "metadata": {
    "id": "oUjw5sby535s",
    "tags": []
   },
   "source": [
    "### DEPENDENCIAS"
   ]
  },
  {
   "cell_type": "code",
   "execution_count": 1,
   "metadata": {},
   "outputs": [],
   "source": [
    "import mysql.connector\n",
    "import pandas as pd\n",
    "import os\n",
    "import numpy as np\n",
    "import warnings\n",
    "import re\n",
    "\n",
    "import matplotlib.pyplot as plt\n",
    "import seaborn as sns\n",
    "\n",
    "import pandas as pd\n",
    "import pymysql\n",
    "import logging\n",
    "import sshtunnel\n",
    "from sshtunnel import SSHTunnelForwarder\n",
    "\n",
    "from shareplum import Site\n",
    "from shareplum import Office365\n",
    "from shareplum.site import Version\n",
    "import os\n",
    "import sys\n",
    "\n",
    "import pptx\n",
    "from pptx import Presentation\n",
    "from pptx.dml.color import RGBColor\n",
    "\n",
    "\n",
    "\n",
    "\n",
    "# Que se vean todas las columnas y filas al ejecutar un dataframe\n",
    "pd.set_option('display.max_columns', None) \n",
    "pd.set_option('display.max_colwidth', None) \n",
    "pd.set_option('display.max_rows', None)"
   ]
  },
  {
   "cell_type": "code",
   "execution_count": 2,
   "metadata": {},
   "outputs": [],
   "source": [
    "nombre_empresa = 'Seresco' #'Grupo Porres' 'El Gaitero' 'Oxford Education' Majorel\n",
    "lista_grupos = ['G130-1', 'G130-9'] # ['Grupo Porres 15-1'] ['Grupo Porres 15-2'] ['Grupo Porres 15-3'] Majorel N-1 - Grupo 2 LT\n",
    "\n",
    "lista_modulos = [\n",
    "    'Módulo 1  :  Inteligencia Intrapersonal', 'Módulo 1: Inteligencia intrapersonal', 'Módulo 1 - Inteligencia Intrapersonal', 'Módulo 1: Inteligencia intrapersonal',\n",
    "    'Módulo 1. Inteligencia intrapersonal', 'Módulo 1. Inteligencia intrapersonal', 'Módulo 1: Inteligencia intrapersonal', 'Módulo 1. Inteligencia intrapersonal INT',\n",
    "    'Módulo 1. Transformación intrapersonal', 'Módulo 1: Transformación intrapersonal', 'Módulo 1: Transformación intrapersonal', 'Módulo 1: Transformación intrapersonal',\n",
    "    'Módulo 1: Transformación intrapersonal', 'Módulo 1: Transformación intrapersonal', 'Módulo 1: Transformación intrapersonal',\n",
    "    'Módulo 1: Transformación intrapersonal', 'Módulo 1: Transformación intrapersonal', 'Módulo 1: Transformación intrapersonal', 'Módulo 1: Transformación intrapersonal',\n",
    "    'Módulo 1: Transformación Intrapersonal', 'Módulo 1: Transformación Intrapersonal', 'Módulo 1: Transformación Intrapersonal:', 'Módulo 1. Transformación Intrapersonal', \n",
    "    'Módulo 1: Inteligencia Intrapersonal', 'Módulo 1 : Inteligencia Intrapersonal', 'Módulo 1 : Inteligencia Intrapersonal'\n",
    "]\n",
    "\n",
    "df_webinar = pd.read_excel(\"textos_webinar_esp.xlsx\", sheet_name = 1)\n",
    "\n",
    "informe_ppt = Presentation('plantilla_webinar_mod1_pares_esp.pptx')"
   ]
  },
  {
   "cell_type": "markdown",
   "metadata": {},
   "source": [
    "### IMPORTACIÓN FUNCIONES"
   ]
  },
  {
   "cell_type": "code",
   "execution_count": 3,
   "metadata": {},
   "outputs": [],
   "source": [
    "from extraccion_bbdd import extraccion_sql_1, extract_temas, extract_ejer, extract_grupo_ejercicio, extract_episodio, extract_modulo\n",
    "from funciones_graficos import get_boolean_pie, get_selection_bar, get_slider_pie, slider_pie_lideres\n",
    "from funciones_archivos import get_top_ponderado_priorizacion, get_top_priorizacion, get_top_boolean"
   ]
  },
  {
   "cell_type": "markdown",
   "metadata": {},
   "source": [
    "### DIAPOSITIVAS MÓDULO 1"
   ]
  },
  {
   "cell_type": "markdown",
   "metadata": {},
   "source": [
    "### GUARDADO DE ARCHIVO"
   ]
  },
  {
   "cell_type": "code",
   "execution_count": 4,
   "metadata": {
    "tags": []
   },
   "outputs": [],
   "source": [
    "informe_ppt.save('informe_generado.pptx')"
   ]
  }
 ],
 "metadata": {
  "colab": {
   "provenance": []
  },
  "kernelspec": {
   "display_name": "Python 3 (ipykernel)",
   "language": "python",
   "name": "python3"
  },
  "language_info": {
   "codemirror_mode": {
    "name": "ipython",
    "version": 3
   },
   "file_extension": ".py",
   "mimetype": "text/x-python",
   "name": "python",
   "nbconvert_exporter": "python",
   "pygments_lexer": "ipython3",
   "version": "3.10.11"
  },
  "toc-showtags": false
 },
 "nbformat": 4,
 "nbformat_minor": 4
}
